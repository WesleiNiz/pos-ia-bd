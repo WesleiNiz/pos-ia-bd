{
  "nbformat": 4,
  "nbformat_minor": 0,
  "metadata": {
    "colab": {
      "name": "FriendsByAge.ipynb",
      "provenance": []
    },
    "kernelspec": {
      "name": "python3",
      "display_name": "Python 3"
    },
    "language_info": {
      "name": "python"
    }
  },
  "cells": [
    {
      "cell_type": "markdown",
      "source": [
        "# Amigos por idade\n",
        "\n",
        "Contar a quantidade média de amigos por idade.\n",
        "\n",
        "\n",
        "<img src=\"https://insight.ieeeusa.org/wp-content/uploads/sites/3/2018/08/network-1200-1200x700.jpg\" class=\"bg-primary mb-1\" width=\"300px\">"
      ],
      "metadata": {
        "id": "N7xl7pt7wD70"
      }
    },
    {
      "cell_type": "markdown",
      "source": [
        "## Conectando o Drive ao Colab\n",
        "\n",
        "A primeira coisa que você quer fazer quando está trabalhando no Colab é montar seu Google Drive. Isso permitirá que você acesse qualquer diretório em seu Drive dentro do notebook Colab."
      ],
      "metadata": {
        "id": "TVhZCcPdqm52"
      }
    },
    {
      "cell_type": "code",
      "source": [
        "from google.colab import drive\n",
        "drive.mount('/content/drive')"
      ],
      "metadata": {
        "id": "7sOGygL7q3Ps",
        "colab": {
          "base_uri": "https://localhost:8080/"
        },
        "outputId": "51478779-e3ba-4bcb-dfa9-e53b3cea3f35"
      },
      "execution_count": 1,
      "outputs": [
        {
          "output_type": "stream",
          "name": "stdout",
          "text": [
            "Mounted at /content/drive\n"
          ]
        }
      ]
    },
    {
      "cell_type": "markdown",
      "source": [
        "## Instalando o PySpark no Google Colab\n",
        "\n",
        "Instalar o PySpark não é um processo direto como de praxe em Python. Não basta usar um pip install apenas. Na verdade, antes de tudo é necessário instalar dependências como o Java 8, Apache Spark 2.3.2 junto com o Hadoop 2.7."
      ],
      "metadata": {
        "id": "CWCwj_pRtBvQ"
      }
    },
    {
      "cell_type": "code",
      "source": [
        "# instalar as dependências\n",
        "!apt-get install openjdk-8-jdk-headless -qq > /dev/null\n",
        "!wget -q https://archive.apache.org/dist/spark/spark-2.4.4/spark-2.4.4-bin-hadoop2.7.tgz\n",
        "!tar xf spark-2.4.4-bin-hadoop2.7.tgz\n",
        "!pip install -q findspark"
      ],
      "metadata": {
        "id": "euUUXiXwtPXb"
      },
      "execution_count": 2,
      "outputs": []
    },
    {
      "cell_type": "markdown",
      "source": [
        "A próxima etapa é configurar as variáveis de ambiente, pois isso habilita o ambiente do Colab a identificar corretamente onde as dependências estão rodando.\n",
        "\n",
        "Para conseguir “manipular” o terminal e interagir como ele, você pode usar a biblioteca os."
      ],
      "metadata": {
        "id": "Q706reA7ti4c"
      }
    },
    {
      "cell_type": "code",
      "source": [
        "# configurar as variáveis de ambiente\n",
        "import os\n",
        "os.environ[\"JAVA_HOME\"] = \"/usr/lib/jvm/java-8-openjdk-amd64\"\n",
        "os.environ[\"SPARK_HOME\"] = \"/content/spark-2.4.4-bin-hadoop2.7\"\n",
        "\n",
        "# tornar o pyspark \"importável\"\n",
        "import findspark\n",
        "findspark.init('spark-2.4.4-bin-hadoop2.7')"
      ],
      "metadata": {
        "id": "HX-mOya7tpwB"
      },
      "execution_count": 3,
      "outputs": []
    },
    {
      "cell_type": "markdown",
      "source": [
        "## Implementando a aplicação\n",
        "\n",
        "A primeira coisa a fazer é criar a aplicação e a sessão do Spark."
      ],
      "metadata": {
        "id": "eOYHhjXZyJdp"
      }
    },
    {
      "cell_type": "code",
      "source": [
        "from pyspark.sql import SparkSession\n",
        "\n",
        "# A function that splits a line of input into (age, numFriends) tuples.\n",
        "def parse_line(line):\n",
        "    # Split by commas\n",
        "    fields = line.split(\",\")\n",
        "\n",
        "    # Extract the age and numFriends fields, and convert to integers\n",
        "    age = int(fields[2])\n",
        "    num_friends = int(fields[3])\n",
        "\n",
        "    # Create a tuple that is our result.\n",
        "    return age, num_friends\n",
        "\n",
        "spark = (SparkSession\n",
        "         .builder\n",
        "         .appName(\"FriendsByAge\")\n",
        "         .getOrCreate())"
      ],
      "metadata": {
        "id": "LAs8-NjWyayd"
      },
      "execution_count": 6,
      "outputs": []
    },
    {
      "cell_type": "markdown",
      "source": [
        "Carregar cada linha dos dados de origem em um RDD"
      ],
      "metadata": {
        "id": "lzCKRj9ty-RW"
      }
    },
    {
      "cell_type": "code",
      "source": [
        "lines = spark.sparkContext.textFile(\"/content/drive/MyDrive/Ensino/IFG/2022/01/Big_Data/pos-ia-bd/04-spark/data/fakefriends.csv\")"
      ],
      "metadata": {
        "id": "yDRTrhzQzRbN"
      },
      "execution_count": 10,
      "outputs": []
    },
    {
      "cell_type": "markdown",
      "source": [
        "Use nossa função `parseLines` para converter em tuplas (age, numFriends)"
      ],
      "metadata": {
        "id": "bVzdiEwlzy0_"
      }
    },
    {
      "cell_type": "code",
      "source": [
        "rdd = lines.map(parse_line)"
      ],
      "metadata": {
        "id": "Cq5EMUBa0Hwn"
      },
      "execution_count": 11,
      "outputs": []
    },
    {
      "cell_type": "markdown",
      "source": [
        "Muita coisa acontecendo aqui...\n",
        "\n",
        "Estamos começando com um RDD de forma (idade, numAmigos) onde idade é a CHAVE e numAmigos é o VALOR\n",
        "\n",
        "Usamos `mapValues` para converter cada valor `numFriends` em uma tupla de (numFriends, 1)\n",
        "\n",
        "Em seguida, usamos `reduceByKey` para somar o total de `numFriends` e o total de instâncias para cada idade, somando todos os valores numFriends e 1s respectivamente."
      ],
      "metadata": {
        "id": "_L8TrXfO0R9a"
      }
    },
    {
      "cell_type": "code",
      "source": [
        "totals_by_age = rdd.mapValues(lambda x: (x, 1)).reduceByKey(lambda x, y: (x[0] + y[0], x[1] + y[1]))"
      ],
      "metadata": {
        "id": "nvL060f71z-_"
      },
      "execution_count": 12,
      "outputs": []
    },
    {
      "cell_type": "markdown",
      "source": [
        "Então agora temos tuplas de (idade, (totalFriends, totalInstances))\n",
        "\n",
        "Para calcular a média dividimos totalFriends/totalInstances para cada idade."
      ],
      "metadata": {
        "id": "E_1YFJR-2RVb"
      }
    },
    {
      "cell_type": "code",
      "source": [
        "average_by_age = totals_by_age.mapValues(lambda x: x[0] / x[1]).sortByKey()"
      ],
      "metadata": {
        "id": "fPa0h20x2gjL"
      },
      "execution_count": 13,
      "outputs": []
    },
    {
      "cell_type": "markdown",
      "source": [
        "Colete os resultados do RDD\n",
        "\n",
        "Isso inicia a computação do DAG e realmente executa o trabalho"
      ],
      "metadata": {
        "id": "ANjMmXMc2sFX"
      }
    },
    {
      "cell_type": "code",
      "source": [
        "results = average_by_age.collect()\n",
        "for r in results:\n",
        "  print(r)"
      ],
      "metadata": {
        "id": "o5GLK_7A2yfx"
      },
      "execution_count": null,
      "outputs": []
    }
  ]
}