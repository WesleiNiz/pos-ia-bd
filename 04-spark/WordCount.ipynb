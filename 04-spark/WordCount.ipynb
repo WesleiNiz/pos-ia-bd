{
  "nbformat": 4,
  "nbformat_minor": 0,
  "metadata": {
    "colab": {
      "name": "WordCount.ipynb",
      "provenance": []
    },
    "kernelspec": {
      "name": "python3",
      "display_name": "Python 3"
    },
    "language_info": {
      "name": "python"
    }
  },
  "cells": [
    {
      "cell_type": "markdown",
      "source": [
        "# Contar palavras\n",
        "\n",
        "Contar as palavras de um livro"
      ],
      "metadata": {
        "id": "N7xl7pt7wD70"
      }
    },
    {
      "cell_type": "markdown",
      "source": [
        "## Conectando o Drive ao Colab\n",
        "\n",
        "A primeira coisa que você quer fazer quando está trabalhando no Colab é montar seu Google Drive. Isso permitirá que você acesse qualquer diretório em seu Drive dentro do notebook Colab."
      ],
      "metadata": {
        "id": "TVhZCcPdqm52"
      }
    },
    {
      "cell_type": "code",
      "source": [
        "from google.colab import drive\n",
        "drive.mount('/content/drive')"
      ],
      "metadata": {
        "id": "7sOGygL7q3Ps",
        "colab": {
          "base_uri": "https://localhost:8080/"
        },
        "outputId": "b26604b1-e302-4f72-9e60-5fb5746deb8d"
      },
      "execution_count": 1,
      "outputs": [
        {
          "output_type": "stream",
          "name": "stdout",
          "text": [
            "Mounted at /content/drive\n"
          ]
        }
      ]
    },
    {
      "cell_type": "markdown",
      "source": [
        "## Instalando o PySpark no Google Colab\n",
        "\n",
        "Instalar o PySpark não é um processo direto como de praxe em Python. Não basta usar um pip install apenas. Na verdade, antes de tudo é necessário instalar dependências como o Java 8, Apache Spark 2.3.2 junto com o Hadoop 2.7."
      ],
      "metadata": {
        "id": "CWCwj_pRtBvQ"
      }
    },
    {
      "cell_type": "code",
      "source": [
        "# instalar as dependências\n",
        "!apt-get install openjdk-8-jdk-headless -qq > /dev/null\n",
        "!wget -q https://archive.apache.org/dist/spark/spark-2.4.4/spark-2.4.4-bin-hadoop2.7.tgz\n",
        "!tar xf spark-2.4.4-bin-hadoop2.7.tgz\n",
        "!pip install -q findspark"
      ],
      "metadata": {
        "id": "euUUXiXwtPXb"
      },
      "execution_count": 2,
      "outputs": []
    },
    {
      "cell_type": "markdown",
      "source": [
        "A próxima etapa é configurar as variáveis de ambiente, pois isso habilita o ambiente do Colab a identificar corretamente onde as dependências estão rodando.\n",
        "\n",
        "Para conseguir “manipular” o terminal e interagir como ele, você pode usar a biblioteca os."
      ],
      "metadata": {
        "id": "Q706reA7ti4c"
      }
    },
    {
      "cell_type": "code",
      "source": [
        "# configurar as variáveis de ambiente\n",
        "import os\n",
        "os.environ[\"JAVA_HOME\"] = \"/usr/lib/jvm/java-8-openjdk-amd64\"\n",
        "os.environ[\"SPARK_HOME\"] = \"/content/spark-2.4.4-bin-hadoop2.7\"\n",
        "\n",
        "# tornar o pyspark \"importável\"\n",
        "import findspark\n",
        "findspark.init('spark-2.4.4-bin-hadoop2.7')"
      ],
      "metadata": {
        "id": "HX-mOya7tpwB"
      },
      "execution_count": 3,
      "outputs": []
    },
    {
      "cell_type": "markdown",
      "source": [
        "## Implementando a aplicação\n",
        "\n",
        "A primeira coisa a fazer é criar a aplicação e a sessão do Spark."
      ],
      "metadata": {
        "id": "eOYHhjXZyJdp"
      }
    },
    {
      "cell_type": "code",
      "source": [
        "from pyspark.sql import SparkSession\n",
        "\n",
        "spark = (SparkSession\n",
        "         .builder\n",
        "         .appName(\"WordCount\")\n",
        "         .getOrCreate())"
      ],
      "metadata": {
        "id": "LAs8-NjWyayd"
      },
      "execution_count": 4,
      "outputs": []
    },
    {
      "cell_type": "markdown",
      "source": [
        "Carregar cada linha dos dados de origem em um RDD"
      ],
      "metadata": {
        "id": "lzCKRj9ty-RW"
      }
    },
    {
      "cell_type": "code",
      "source": [
        "input = spark.sparkContext.textFile(\"/content/drive/MyDrive/Ensino/IFG/2022/01/Big_Data/pos-ia-bd/04-spark/data/Dom-Casmurro.txt\")"
      ],
      "metadata": {
        "id": "yDRTrhzQzRbN"
      },
      "execution_count": 7,
      "outputs": []
    },
    {
      "cell_type": "markdown",
      "source": [
        "Dividir em palavras separadas por um caractere de espaço"
      ],
      "metadata": {
        "id": "bVzdiEwlzy0_"
      }
    },
    {
      "cell_type": "code",
      "source": [
        "words = input.flatMap(lambda x: x.split())"
      ],
      "metadata": {
        "id": "Cq5EMUBa0Hwn"
      },
      "execution_count": 8,
      "outputs": []
    },
    {
      "cell_type": "markdown",
      "source": [
        "Contar as ocorrências de cada palavra"
      ],
      "metadata": {
        "id": "_L8TrXfO0R9a"
      }
    },
    {
      "cell_type": "code",
      "source": [
        "wordCounts = words.countByValue()"
      ],
      "metadata": {
        "id": "nvL060f71z-_"
      },
      "execution_count": 9,
      "outputs": []
    },
    {
      "cell_type": "markdown",
      "source": [
        "Imprima os resultados"
      ],
      "metadata": {
        "id": "LQS18GLpD2LM"
      }
    },
    {
      "cell_type": "code",
      "source": [
        "for word, count in wordCounts.items():\n",
        "  print(word + \" \" + str(count))"
      ],
      "metadata": {
        "id": "B2q0YcqVD3Ql"
      },
      "execution_count": null,
      "outputs": []
    }
  ]
}